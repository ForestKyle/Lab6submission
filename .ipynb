{
 "cells": [
  {
   "cell_type": "code",
   "execution_count": null,
   "metadata": {},
   "outputs": [],
   "source": [
    "stringInput = input(\"please enter a string\")\n",
    "\n",
    "withNumerals = any(c.isdigit() for c in stringInput)\n",
    "while withNumerals:\n",
    "    stringInput = input(\"input cannot contain number: \")\n",
    "    withNumerals = any(c.isdigit() for c in stringInput)\n",
    "   \n",
    "intInput = input(\"please enter an integer: \")\n",
    "isNotInteger = True;\n",
    "while isNotInteger:\n",
    "    try:\n",
    "        n = int(intInput)a\n",
    "        isNotInteger = False\n",
    "    except:\n",
    "        intInput = input(\"this aint no integer\")"
   ]
  }
 ],
 "metadata": {
  "kernelspec": {
   "display_name": "Python 3",
   "language": "python",
   "name": "python3"
  },
  "language_info": {
   "codemirror_mode": {
    "name": "ipython",
    "version": 3
   },
   "file_extension": ".py",
   "mimetype": "text/x-python",
   "name": "python",
   "nbconvert_exporter": "python",
   "pygments_lexer": "ipython3",
   "version": "3.8.3"
  }
 },
 "nbformat": 4,
 "nbformat_minor": 4
}
