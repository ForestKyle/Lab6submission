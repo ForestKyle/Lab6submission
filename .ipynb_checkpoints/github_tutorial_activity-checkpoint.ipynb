{
 "cells": [
  {
   "cell_type": "code",
   "execution_count": 1,
   "metadata": {},
   "outputs": [
    {
     "name": "stdin",
     "output_type": "stream",
     "text": [
      "please enter a string hello\n",
      "please enter an integer:  1\n"
     ]
    },
    {
     "name": "stdout",
     "output_type": "stream",
     "text": [
      "plain: hello\n",
      "cipher: ifmmp\n"
     ]
    }
   ],
   "source": [
    "stringInput = input(\"please enter a string\")\n",
    "\n",
    "withNumerals = any(c.isdigit() for c in stringInput)\n",
    "while withNumerals:\n",
    "    stringInput = input(\"input cannot contain number: \")\n",
    "    withNumerals = any(c.isdigit() for c in stringInput)\n",
    "   \n",
    "intInput = input(\"please enter an integer: \")\n",
    "isNotInteger = True;\n",
    "while isNotInteger:\n",
    "    try:\n",
    "        n = int(intInput)\n",
    "        isNotInteger = False\n",
    "    except:\n",
    "        intInput = input(\"this aint no integer\")\n",
    "strCSA64 = \"\"\n",
    "for i in range(len(stringInput)):\n",
    "    c = stringInput[i]\n",
    "   \n",
    "    if c.isupper():\n",
    "        strCSA64 += chr((ord(c) + n-65) % 26 + 65)\n",
    "    elif c.islower():\n",
    "        strCSA64 += chr((ord(c) + n-97) % 26 + 97)\n",
    "    else:\n",
    "        strCSA64 += c\n",
    "\n",
    "print(\"plain: \" + stringInput)\n",
    "print(\"cipher: \" + strCSA64)\n"
   ]
  },
  {
   "cell_type": "code",
   "execution_count": null,
   "metadata": {},
   "outputs": [],
   "source": []
  }
 ],
 "metadata": {
  "kernelspec": {
   "display_name": "Python 3",
   "language": "python",
   "name": "python3"
  },
  "language_info": {
   "codemirror_mode": {
    "name": "ipython",
    "version": 3
   },
   "file_extension": ".py",
   "mimetype": "text/x-python",
   "name": "python",
   "nbconvert_exporter": "python",
   "pygments_lexer": "ipython3",
   "version": "3.8.3"
  }
 },
 "nbformat": 4,
 "nbformat_minor": 4
}
